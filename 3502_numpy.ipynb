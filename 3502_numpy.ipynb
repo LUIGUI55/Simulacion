{
 "cells": [
  {
   "cell_type": "markdown",
   "id": "60f85c5a-eef0-41cb-a22d-3f4909b87f41",
   "metadata": {},
   "source": [
    "# Introduccion a Numpy"
   ]
  },
  {
   "cell_type": "markdown",
   "id": "59d52455-83ef-49c3-988c-85a029a8da30",
   "metadata": {},
   "source": [
    "[Numpy](https://numpy.org/doc/stable/#) Es un biblioteca fundamental para la computacion cientifica en Python.\n",
    "* Proporciona arrays N-dimensionales\n",
    "* Implementa funciones matematicas sofisticadas\n",
    "* Proporciona herramientas para integrar c/c++ y Forton\n",
    "* Proporciona mecanismos para facilitar la realizacion de tareas relacionadas con con el algebra lineal o numeros aleatorios"
   ]
  },
  {
   "cell_type": "markdown",
   "id": "ee012186-0454-4cfe-84d3-01a9e0d039d3",
   "metadata": {},
   "source": [
    "## Imports"
   ]
  },
  {
   "cell_type": "code",
   "execution_count": 1,
   "id": "3bd62779-82b8-4613-9e61-426d4ddb4390",
   "metadata": {},
   "outputs": [],
   "source": [
    "import numpy as np"
   ]
  },
  {
   "cell_type": "markdown",
   "id": "c1d45f68-c5f8-40ab-a4a4-feff0a20746c",
   "metadata": {},
   "source": [
    "### Arrays\n",
    "Un **Array** es una estructura de datos que consiste en una seleccion de elementos (Valores o variables) cada uno identificado por al menos un indice o clave, Un array se almacena de modo de la posicion de cada elemento de puede calcular a partir de su tupla de indice mediante una formula matematica. el tipo mas simple de array es un array lineal tambien llamado array unidimensional."
   ]
  },
  {
   "cell_type": "markdown",
   "id": "67155742-495d-4ad5-8590-aae70dccfff3",
   "metadata": {},
   "source": [
    "### En Numpy:\n",
    "* Cada dimension se denomina **axis**.\n",
    "* En numero de dimensiones se denomina **rank**\n",
    "* La lista de dimensiones con su correspondiente longitud se denomina **shape**\n",
    "* El número total de elementos (multiplicacion de la longitud de las dimensiones) se denomina **size**."
   ]
  },
  {
   "cell_type": "code",
   "execution_count": 2,
   "id": "76ba949a-c94a-435f-98b1-73f80df8c6e9",
   "metadata": {},
   "outputs": [
    {
     "data": {
      "text/plain": [
       "array([[0., 0., 0., 0.],\n",
       "       [0., 0., 0., 0.]])"
      ]
     },
     "execution_count": 2,
     "metadata": {},
     "output_type": "execute_result"
    }
   ],
   "source": [
    "# Array cuyos valores son todos ceros.\n",
    "a = np.zeros((2,4))\n",
    "a"
   ]
  },
  {
   "cell_type": "markdown",
   "id": "456080ef-c914-4897-a7a4-78db30ea0faa",
   "metadata": {},
   "source": [
    "_**a**_ es un array:\n",
    "* Con dos **axis**, el primero de longitud 2 y el segundo de longitud 4.\n",
    "* Con un **rank** igual al 2\n",
    "* Con un **shape** que es igual a (2 . 4)\n",
    "* Con un **size** igual a 8"
   ]
  },
  {
   "cell_type": "code",
   "execution_count": 3,
   "id": "cb087a64-c17e-44b2-904b-a9ab5187db57",
   "metadata": {},
   "outputs": [
    {
     "data": {
      "text/plain": [
       "(2, 4)"
      ]
     },
     "execution_count": 3,
     "metadata": {},
     "output_type": "execute_result"
    }
   ],
   "source": [
    "a.shape"
   ]
  },
  {
   "cell_type": "markdown",
   "id": "24e4894c-bea1-4598-a3d3-9bdb0ca13475",
   "metadata": {},
   "source": [
    "## Creación de arrays "
   ]
  },
  {
   "cell_type": "code",
   "execution_count": 4,
   "id": "62603784-b753-4919-acbf-4f3fde045e7d",
   "metadata": {},
   "outputs": [
    {
     "data": {
      "text/plain": [
       "array([[[1., 1., 1., 1.],\n",
       "        [1., 1., 1., 1.],\n",
       "        [1., 1., 1., 1.]],\n",
       "\n",
       "       [[1., 1., 1., 1.],\n",
       "        [1., 1., 1., 1.],\n",
       "        [1., 1., 1., 1.]]])"
      ]
     },
     "execution_count": 4,
     "metadata": {},
     "output_type": "execute_result"
    }
   ],
   "source": [
    "# Array cuyos valores son todos 0.\n",
    "np.zeros((2, 3, 4))\n",
    " #Array cuyos valores son todos 1.\n",
    "np.ones((2, 3, 4))"
   ]
  },
  {
   "cell_type": "code",
   "execution_count": 5,
   "id": "d10e09df-6170-4f76-9045-6c5f70d74a8e",
   "metadata": {},
   "outputs": [
    {
     "data": {
      "text/plain": [
       "array([[[8, 8, 8, 8],\n",
       "        [8, 8, 8, 8],\n",
       "        [8, 8, 8, 8]],\n",
       "\n",
       "       [[8, 8, 8, 8],\n",
       "        [8, 8, 8, 8],\n",
       "        [8, 8, 8, 8]]])"
      ]
     },
     "execution_count": 5,
     "metadata": {},
     "output_type": "execute_result"
    }
   ],
   "source": [
    "#Array cuyos valores son todos el valor indicado como segundo parametro de la funcion\n",
    "\n",
    "np.full((2, 3, 4), 8)"
   ]
  },
  {
   "cell_type": "code",
   "execution_count": 6,
   "id": "4c4f49f0-fb96-4ccd-b071-2ba7c25a56aa",
   "metadata": {},
   "outputs": [
    {
     "data": {
      "text/plain": [
       "array([[[ 6.67389309e-317,  0.00000000e+000,  1.03581153e+219,\n",
       "          1.71011790e+214,  2.41578815e-311,  3.81291163e+180,\n",
       "          3.55760877e+180,  1.26927730e-277,  1.57989218e-313],\n",
       "        [ 1.31353237e-308,  1.03581152e+219,  9.78711731e+199,\n",
       "          1.53446210e-253,  2.64089007e-313,  2.00886795e-308,\n",
       "          3.38460675e+125,  6.96411095e+252,  9.24692396e+228],\n",
       "        [-3.38460677e+125,  2.57153710e+151,  4.09487469e-308,\n",
       "         -3.38460759e+125,  8.56555737e+218,  8.36407307e+149,\n",
       "          6.68546367e+151,  1.14428844e+243,  2.08846826e-310]],\n",
       "\n",
       "       [[ 3.42196482e-210,  1.68582619e-312,  1.08785252e-306,\n",
       "          1.33360300e+241,  5.72811544e-310,  6.31241093e-191,\n",
       "          2.78926400e-312,  3.53860623e-308,  1.33360302e+241],\n",
       "        [ 8.00968531e-310,  2.24261886e-205,  4.12628713e-313,\n",
       "          7.81668446e-305,  1.33360396e+241,  1.76252970e-310,\n",
       "          6.04608850e-138,  5.54041819e+228,  6.75635367e-312],\n",
       "        [ 2.03246818e-260,  1.45894756e-303,  8.36452102e-299,\n",
       "          5.48475895e-294,  1.58420850e-120,  9.16017972e-246,\n",
       "          4.31045975e-294,  1.10152764e+304,  1.36646504e+039]]])"
      ]
     },
     "execution_count": 6,
     "metadata": {},
     "output_type": "execute_result"
    }
   ],
   "source": [
    "# el resultado de np.empty no es predecible \n",
    "# Inicializa los valores del array con lo que haya en memoria en ese momento \n",
    "np.empty((2, 3, 9))"
   ]
  },
  {
   "cell_type": "code",
   "execution_count": 7,
   "id": "246f6a72-02a6-4aa6-bcb6-571e607df018",
   "metadata": {},
   "outputs": [
    {
     "data": {
      "text/plain": [
       "array([[1, 2, 3],\n",
       "       [4, 5, 6]])"
      ]
     },
     "execution_count": 7,
     "metadata": {},
     "output_type": "execute_result"
    }
   ],
   "source": [
    "# Inicializacion del array utilizando un array de python\n",
    "b = np.array([[1, 2, 3], [4, 5, 6]])\n",
    "b"
   ]
  },
  {
   "cell_type": "code",
   "execution_count": 8,
   "id": "b92f89ed-b042-449a-8809-939bdd9bd7cd",
   "metadata": {},
   "outputs": [
    {
     "name": "stdout",
     "output_type": "stream",
     "text": [
      "[0.         0.66666667 1.33333333 2.         2.66666667 3.33333333\n",
      " 4.         4.66666667 5.33333333 6.        ]\n"
     ]
    }
   ],
   "source": [
    "# Creacion del arrat utilizando una funcion basada en rangos.\n",
    "# (minimo, maximo, número de elementos del array\n",
    "print(np.linspace(0, 6, 10))"
   ]
  },
  {
   "cell_type": "code",
   "execution_count": 10,
   "id": "1de9e903-b954-4eed-8a79-9fefd527b04f",
   "metadata": {},
   "outputs": [
    {
     "data": {
      "text/plain": [
       "array([[[0.22737138, 0.62890454, 0.07310533, 0.43421841],\n",
       "        [0.26229093, 0.71175157, 0.56811768, 0.41194581],\n",
       "        [0.74641007, 0.170856  , 0.93947838, 0.18280026]],\n",
       "\n",
       "       [[0.94174478, 0.29875515, 0.3919354 , 0.20000536],\n",
       "        [0.51974213, 0.11514095, 0.63102739, 0.19431148],\n",
       "        [0.58526865, 0.44746986, 0.24354366, 0.7112472 ]]])"
      ]
     },
     "execution_count": 10,
     "metadata": {},
     "output_type": "execute_result"
    }
   ],
   "source": [
    "# Inicializar un array con valores aleatorios.\n",
    "np.random.rand(2, 3, 4)"
   ]
  },
  {
   "cell_type": "code",
   "execution_count": 11,
   "id": "4d0a8498-78fc-4be3-bc7a-a938352f80ad",
   "metadata": {},
   "outputs": [
    {
     "data": {
      "text/plain": [
       "array([[-0.56620078, -0.84277681,  0.39068343, -1.59914094],\n",
       "       [ 1.23653519,  0.04413195,  0.40813565, -0.82949408]])"
      ]
     },
     "execution_count": 11,
     "metadata": {},
     "output_type": "execute_result"
    }
   ],
   "source": [
    "# Inicializar un array con valores aleatorios conforme a una distribucion normal.\n",
    "# randn \n",
    "np.random.randn(2, 4)"
   ]
  },
  {
   "cell_type": "markdown",
   "id": "aeff7c00-e0bc-4dff-9cfb-9518474cdce1",
   "metadata": {},
   "source": [
    "%matplotlib inline\n",
    "import matplotlib.pyplot as plt\n",
    "\n",
    "c = np.random.randn(100000)\n",
    "\n",
    "plt.hist(c, bins=400)\n",
    "\n",
    "plt.show()"
   ]
  },
  {
   "cell_type": "code",
   "execution_count": 15,
   "id": "f5faf5a7-2eee-417a-b7ab-3805e37f9b5c",
   "metadata": {},
   "outputs": [
    {
     "data": {
      "text/plain": [
       "array([[ 0.,  2.,  4.,  6.,  8.],\n",
       "       [ 1.,  3.,  5.,  7.,  9.],\n",
       "       [ 2.,  4.,  6.,  8., 10.]])"
      ]
     },
     "execution_count": 15,
     "metadata": {},
     "output_type": "execute_result"
    }
   ],
   "source": [
    "# Inicializar un array utilizando una funcion personalizada.\n",
    "# la funcion finaliza con el enter\n",
    "def function(x, y):\n",
    "    return x + 2 * y\n",
    "\n",
    "np.fromfunction(function, (3, 5))"
   ]
  },
  {
   "cell_type": "markdown",
   "id": "349eb1fe-a1be-4f8e-b69a-6ca4bdf53ee1",
   "metadata": {},
   "source": [
    "## Acceso a los elementos de un array \n",
    "### Array unidimensional"
   ]
  },
  {
   "cell_type": "code",
   "execution_count": 16,
   "id": "ac803c06-a74e-43ea-b60c-adfe25bb2612",
   "metadata": {},
   "outputs": [
    {
     "name": "stdout",
     "output_type": "stream",
     "text": [
      "Shape:  (6,)\n",
      "Array Uni:  [ 1  3  5  7  9 11]\n"
     ]
    }
   ],
   "source": [
    "# Creacion de un array unidimensional.\n",
    "\n",
    "array_uni = np.array([1, 3, 5, 7, 9, 11])\n",
    "\n",
    "print(\"Shape: \", array_uni.shape)\n",
    "\n",
    "print(\"Array Uni: \", array_uni)"
   ]
  },
  {
   "cell_type": "code",
   "execution_count": 17,
   "id": "00f4e42c-1293-490a-ab5d-d05ced51b585",
   "metadata": {},
   "outputs": [
    {
     "data": {
      "text/plain": [
       "np.int64(9)"
      ]
     },
     "execution_count": 17,
     "metadata": {},
     "output_type": "execute_result"
    }
   ],
   "source": [
    "# Accediendo al quinto elemento del array.\n",
    "array_uni[4]"
   ]
  },
  {
   "cell_type": "code",
   "execution_count": 18,
   "id": "f1c64d30-cad2-4662-8e7e-0d25050ce619",
   "metadata": {},
   "outputs": [
    {
     "data": {
      "text/plain": [
       "array([5, 7])"
      ]
     },
     "execution_count": 18,
     "metadata": {},
     "output_type": "execute_result"
    }
   ],
   "source": [
    "# Accediendo al tercer y cuarto elementos del array\n",
    "array_uni[2:4]"
   ]
  },
  {
   "cell_type": "code",
   "execution_count": 23,
   "id": "585c13fc-ebaf-4925-8f7d-06bf014b4faa",
   "metadata": {},
   "outputs": [
    {
     "data": {
      "text/plain": [
       "array([ 1, 11])"
      ]
     },
     "execution_count": 23,
     "metadata": {},
     "output_type": "execute_result"
    }
   ],
   "source": [
    "# Acceder a los elementos 0,3,5 del array\n",
    "array_uni[0::5]"
   ]
  },
  {
   "cell_type": "markdown",
   "id": "86424948-dfe1-4ed0-84b3-9aba97668032",
   "metadata": {},
   "source": [
    "## Array multidimensional "
   ]
  },
  {
   "cell_type": "code",
   "execution_count": 25,
   "id": "ac4b594e-fc74-42c3-be5d-155208dd813f",
   "metadata": {},
   "outputs": [
    {
     "name": "stdout",
     "output_type": "stream",
     "text": [
      "Shape:  (2, 4)\n",
      "Array Multi:  [[1 2 3 4]\n",
      " [5 6 7 8]]\n"
     ]
    }
   ],
   "source": [
    "# Creacion de un array multidimensional\n",
    "array_multi = np.array([[1, 2, 3, 4], [5, 6, 7, 8]])\n",
    "\n",
    "print(\"Shape: \", array_multi.shape)\n",
    "\n",
    "print(\"Array Multi: \", array_multi)"
   ]
  },
  {
   "cell_type": "code",
   "execution_count": 27,
   "id": "fd1131d0-0a01-4582-a464-698adc7d8207",
   "metadata": {},
   "outputs": [
    {
     "data": {
      "text/plain": [
       "np.int64(4)"
      ]
     },
     "execution_count": 27,
     "metadata": {},
     "output_type": "execute_result"
    }
   ],
   "source": [
    "# Accediendo al cuarto elemento del array\n",
    "array_multi[0, 3]"
   ]
  },
  {
   "cell_type": "code",
   "execution_count": 28,
   "id": "4af66195-2ab5-4bb0-b54c-98c3e4fc9988",
   "metadata": {},
   "outputs": [
    {
     "data": {
      "text/plain": [
       "array([5, 6, 7, 8])"
      ]
     },
     "execution_count": 28,
     "metadata": {},
     "output_type": "execute_result"
    }
   ],
   "source": [
    "# Accediendo a la segunda fila del array\n",
    "array_multi[1,:]"
   ]
  },
  {
   "cell_type": "code",
   "execution_count": 29,
   "id": "0b481d13-478b-4d5d-9173-c44470ab472f",
   "metadata": {},
   "outputs": [
    {
     "data": {
      "text/plain": [
       "array([3, 7])"
      ]
     },
     "execution_count": 29,
     "metadata": {},
     "output_type": "execute_result"
    }
   ],
   "source": [
    "# Accediendo al tercer elemento  de las 2 primeras filas del array\n",
    "array_multi[0: 2, 2]"
   ]
  },
  {
   "cell_type": "markdown",
   "id": "bbc7a4ea-3f7a-4362-a539-fed3930a15a0",
   "metadata": {},
   "source": [
    "## Modificacion de un array"
   ]
  },
  {
   "cell_type": "code",
   "execution_count": 31,
   "id": "3b980d52-6a88-491d-b25e-89c6b58b3063",
   "metadata": {},
   "outputs": [
    {
     "name": "stdout",
     "output_type": "stream",
     "text": [
      "Shape:  (28,)\n",
      "Array:  [ 0  1  2  3  4  5  6  7  8  9 10 11 12 13 14 15 16 17 18 19 20 21 22 23\n",
      " 24 25 26 27]\n"
     ]
    }
   ],
   "source": [
    "# Creacion de un array unidimensional inicializado con el rango de elementos 0-27\n",
    "array_uno = np.arange(28)\n",
    "print(\"Shape: \", array_uno.shape)\n",
    "\n",
    "print(\"Array: \", array_uno)"
   ]
  },
  {
   "cell_type": "code",
   "execution_count": 33,
   "id": "f67ea110-b7ea-4e0e-893d-225cb18e32a8",
   "metadata": {},
   "outputs": [
    {
     "name": "stdout",
     "output_type": "stream",
     "text": [
      "Shape:  (7, 4)\n",
      "Array: \n",
      " [[ 0  1  2  3]\n",
      " [ 4  5  6  7]\n",
      " [ 8  9 10 11]\n",
      " [12 13 14 15]\n",
      " [16 17 18 19]\n",
      " [20 21 22 23]\n",
      " [24 25 26 27]]\n"
     ]
    }
   ],
   "source": [
    "# Cambiar las dimensiones del array y longitudes\n",
    "array_uno.shape = (7,4)\n",
    "print(\"Shape: \", array_uno.shape)\n",
    "\n",
    "print(\"Array: \\n\", array_uno)"
   ]
  },
  {
   "cell_type": "code",
   "execution_count": 34,
   "id": "f5b28104-0de3-43f2-bcd5-f1fe1d08f913",
   "metadata": {},
   "outputs": [
    {
     "name": "stdout",
     "output_type": "stream",
     "text": [
      "Shape:  (4, 7)\n",
      "Array: \n",
      " [[ 0  1  2  3  4  5  6]\n",
      " [ 7  8  9 10 11 12 13]\n",
      " [14 15 16 17 18 19 20]\n",
      " [21 22 23 24 25 26 27]]\n"
     ]
    }
   ],
   "source": [
    "# El ejemplo anterior devuelve un nuevo array que apunta a los mismos datos\n",
    "# Nota: Las modificaciones en un array modifican el otro array \n",
    "\n",
    "array_dos = array_uno.reshape(4, 7)\n",
    "print(\"Shape: \", array_dos.shape)\n",
    "\n",
    "print(\"Array: \\n\", array_dos)"
   ]
  },
  {
   "cell_type": "code",
   "execution_count": 35,
   "id": "a567fae7-1738-4815-8edd-ff6a9e5d18d8",
   "metadata": {},
   "outputs": [
    {
     "name": "stdout",
     "output_type": "stream",
     "text": [
      "Array: \n",
      " [[ 0  1  2 20  4  5  6]\n",
      " [ 7  8  9 10 11 12 13]\n",
      " [14 15 16 17 18 19 20]\n",
      " [21 22 23 24 25 26 27]]\n"
     ]
    }
   ],
   "source": [
    "# Modificacion al array devuelto\n",
    "array_dos[0,3] = 20\n",
    "print(\"Array: \\n\", array_dos)"
   ]
  },
  {
   "cell_type": "code",
   "execution_count": 40,
   "id": "61db2e84-82fc-4a8b-836c-394b7ed8d150",
   "metadata": {},
   "outputs": [
    {
     "name": "stdout",
     "output_type": "stream",
     "text": [
      "Array: \n",
      " [[ 0  1  2 20]\n",
      " [ 4  5  6  7]\n",
      " [ 8  9 10 11]\n",
      " [12 13 14 15]\n",
      " [16 17 18 19]\n",
      " [20 21 22 23]\n",
      " [24 25 26 27]]\n"
     ]
    }
   ],
   "source": [
    "print(\"Array: \\n\", array_uno)"
   ]
  },
  {
   "cell_type": "code",
   "execution_count": 38,
   "id": "5a4a0166-f551-4df2-af66-e968b38cd0e0",
   "metadata": {},
   "outputs": [
    {
     "name": "stdout",
     "output_type": "stream",
     "text": [
      "Array: \n",
      " [ 0  1  2 20  4  5  6  7  8  9 10 11 12 13 14 15 16 17 18 19 20 21 22 23\n",
      " 24 25 26 27]\n"
     ]
    }
   ],
   "source": [
    "# Devolver el arreglo como estaba originalmente\n",
    "# Nota: el  nuevo array apunta a los nuevos datos\n",
    "print(\"Array: \\n\", array_uno.ravel())"
   ]
  },
  {
   "cell_type": "markdown",
   "id": "c1254bc9-12de-46d0-8f8c-ee5a378825d0",
   "metadata": {},
   "source": [
    "## Operaciones Aritmeticas con arrays"
   ]
  },
  {
   "cell_type": "code",
   "execution_count": 41,
   "id": "03f458a8-d6ec-4c36-a818-e377be25951d",
   "metadata": {},
   "outputs": [
    {
     "name": "stdout",
     "output_type": "stream",
     "text": [
      "Array: \n",
      " [ 2  4  6  8 10 12 14 16]\n",
      "Array: \n",
      " [0 1 2 3 4 5 6 7]\n"
     ]
    }
   ],
   "source": [
    "# Creacion de 2 arrays unidimencionales.\n",
    "\n",
    "array_uno = np.arange(2, 18, 2)\n",
    "array_dos = np.arange(8)\n",
    "\n",
    "print(\"Array: \\n\", array_uno)\n",
    "print(\"Array: \\n\", array_dos)"
   ]
  },
  {
   "cell_type": "code",
   "execution_count": 44,
   "id": "023fa7f7-188f-48aa-b495-5d1d6e51e6c3",
   "metadata": {},
   "outputs": [
    {
     "name": "stdout",
     "output_type": "stream",
     "text": [
      "[ 2  5  8 11 14 17 20 23]\n"
     ]
    }
   ],
   "source": [
    "# suma\n",
    "print(array_uno + array_dos)"
   ]
  },
  {
   "cell_type": "code",
   "execution_count": 45,
   "id": "7c874271-a18b-4726-81c9-e3a53a60af6e",
   "metadata": {},
   "outputs": [
    {
     "name": "stdout",
     "output_type": "stream",
     "text": [
      "[2 3 4 5 6 7 8 9]\n"
     ]
    }
   ],
   "source": [
    "# resta\n",
    "print(array_uno - array_dos)"
   ]
  },
  {
   "cell_type": "code",
   "execution_count": 47,
   "id": "1b4aaa5a-fd3e-489d-870c-a1a06c9a7ad6",
   "metadata": {},
   "outputs": [
    {
     "name": "stdout",
     "output_type": "stream",
     "text": [
      "[  0   4  12  24  40  60  84 112]\n"
     ]
    }
   ],
   "source": [
    "# multiplicacion\n",
    "# Nota: no es una multiplicacion de matrices\n",
    "print(array_uno * array_dos)"
   ]
  },
  {
   "cell_type": "markdown",
   "id": "32752c27-0c2e-4660-b694-bee10d38010e",
   "metadata": {},
   "source": [
    "## Broadcasting\n",
    "Si se aplican operaciones aritmeticas sobre arrays que no tienen la misma forma (shape) numpy aplica una propiedad que se denomina Broadcasting."
   ]
  },
  {
   "cell_type": "code",
   "execution_count": 49,
   "id": "3e52bf61-4df3-4117-b996-b82319fbffe4",
   "metadata": {},
   "outputs": [
    {
     "name": "stdout",
     "output_type": "stream",
     "text": [
      "Shape:  (5,)\n",
      "Array:  [0 1 2 3 4]\n",
      "////////////\n",
      "Shape:  (1,)\n",
      "Array:  [3]\n"
     ]
    }
   ],
   "source": [
    "# Creacion de 2 arrays unidimencionales\n",
    "array_one = np.arange(5)\n",
    "array_second = np.array([3])\n",
    "print(\"Shape: \", array_one.shape)\n",
    "\n",
    "print(\"Array: \", array_one)\n",
    "print(\"////////////\")\n",
    "print(\"Shape: \", array_second.shape)\n",
    "\n",
    "print(\"Array: \", array_second)"
   ]
  },
  {
   "cell_type": "code",
   "execution_count": 50,
   "id": "5c1db8c9-fb6a-44fb-8bf2-f4c41cdb3cce",
   "metadata": {},
   "outputs": [
    {
     "data": {
      "text/plain": [
       "array([3, 4, 5, 6, 7])"
      ]
     },
     "execution_count": 50,
     "metadata": {},
     "output_type": "execute_result"
    }
   ],
   "source": [
    "# sumas de ambos arrays\n",
    "array_one + array_second"
   ]
  },
  {
   "cell_type": "code",
   "execution_count": 51,
   "id": "e5fd7053-9b6f-4572-a2c1-8f68741c19bd",
   "metadata": {},
   "outputs": [
    {
     "name": "stdout",
     "output_type": "stream",
     "text": [
      "Shape:  (2, 3)\n",
      "Array: \n",
      " [[0 1 2]\n",
      " [3 4 5]]\n",
      "Shape:  (3,)\n",
      "Array: \n",
      " [ 6 10 14]\n"
     ]
    }
   ],
   "source": [
    "# Creacion de 2 arrays multidimencionales y unidimencionales\n",
    "array1 = np.arange(6)\n",
    "array1.shape = (2,3)\n",
    "array2 = np.arange(6,18,4)\n",
    "print(\"Shape: \", array1.shape)\n",
    "\n",
    "print(\"Array: \\n\", array1)\n",
    "print(\"Shape: \", array2.shape)\n",
    "\n",
    "print(\"Array: \\n\", array2)"
   ]
  },
  {
   "cell_type": "code",
   "execution_count": 52,
   "id": "411dccdd-528f-4d90-a27c-a745a0725e38",
   "metadata": {},
   "outputs": [
    {
     "data": {
      "text/plain": [
       "array([[ 6, 11, 16],\n",
       "       [ 9, 14, 19]])"
      ]
     },
     "execution_count": 52,
     "metadata": {},
     "output_type": "execute_result"
    }
   ],
   "source": [
    "# suma de ambos arrays\n",
    "array1 + array2"
   ]
  },
  {
   "cell_type": "markdown",
   "id": "ce930bb9-d348-4f87-9d95-99025dcd77b6",
   "metadata": {},
   "source": [
    "## Funciones, estadisticas sobre arrays"
   ]
  },
  {
   "cell_type": "code",
   "execution_count": 53,
   "id": "3e144617-fb10-40d7-ad7c-6f79a4009db3",
   "metadata": {},
   "outputs": [
    {
     "name": "stdout",
     "output_type": "stream",
     "text": [
      "array 1:\n",
      " [ 1  3  5  7  9 11 13 15 17 19]\n"
     ]
    }
   ],
   "source": [
    "# Creacion de un array unidimensional\n",
    "array1 = np.arange(1,20,2)\n",
    "print(\"array 1:\\n\", array1)\n"
   ]
  },
  {
   "cell_type": "code",
   "execution_count": 54,
   "id": "027a4203-40a6-4a35-8308-20a0e9f04298",
   "metadata": {},
   "outputs": [
    {
     "data": {
      "text/plain": [
       "np.float64(10.0)"
      ]
     },
     "execution_count": 54,
     "metadata": {},
     "output_type": "execute_result"
    }
   ],
   "source": [
    "# Media de los elementos dela array\n",
    "array1.mean()"
   ]
  },
  {
   "cell_type": "code",
   "execution_count": 55,
   "id": "37b38bdd-ffd5-4d68-a8e8-7fb29e9eafd3",
   "metadata": {},
   "outputs": [
    {
     "data": {
      "text/plain": [
       "np.int64(100)"
      ]
     },
     "execution_count": 55,
     "metadata": {},
     "output_type": "execute_result"
    }
   ],
   "source": [
    "# Suma de los elementos del array\n",
    "array1.sum()"
   ]
  },
  {
   "cell_type": "markdown",
   "id": "e5836f42-4560-4251-a4f1-f195753e6852",
   "metadata": {},
   "source": [
    "funciones universales eficientes proporcionadas por numpy **unfuction**"
   ]
  },
  {
   "cell_type": "code",
   "execution_count": 56,
   "id": "ca3662b2-5d14-47f4-9a91-78c93d561e17",
   "metadata": {},
   "outputs": [
    {
     "data": {
      "text/plain": [
       "array([  1,   9,  25,  49,  81, 121, 169, 225, 289, 361])"
      ]
     },
     "execution_count": 56,
     "metadata": {},
     "output_type": "execute_result"
    }
   ],
   "source": [
    "# Cuadrado de los elementos del array\n",
    "np.square(array1)"
   ]
  },
  {
   "cell_type": "code",
   "execution_count": 57,
   "id": "3a51c4be-f77b-4561-acc3-69bd3df128b3",
   "metadata": {},
   "outputs": [
    {
     "data": {
      "text/plain": [
       "array([1.        , 1.73205081, 2.23606798, 2.64575131, 3.        ,\n",
       "       3.31662479, 3.60555128, 3.87298335, 4.12310563, 4.35889894])"
      ]
     },
     "execution_count": 57,
     "metadata": {},
     "output_type": "execute_result"
    }
   ],
   "source": [
    "# Raiz cuadrada de los elementos del array\n",
    "np.sqrt(array1)"
   ]
  },
  {
   "cell_type": "code",
   "execution_count": 58,
   "id": "5cdccd5d-89b7-41bc-a996-1bc12ed770ed",
   "metadata": {},
   "outputs": [
    {
     "data": {
      "text/plain": [
       "array([2.71828183e+00, 2.00855369e+01, 1.48413159e+02, 1.09663316e+03,\n",
       "       8.10308393e+03, 5.98741417e+04, 4.42413392e+05, 3.26901737e+06,\n",
       "       2.41549528e+07, 1.78482301e+08])"
      ]
     },
     "execution_count": 58,
     "metadata": {},
     "output_type": "execute_result"
    }
   ],
   "source": [
    "# Exponencial de los elementos del array.\n",
    "np.exp(array1)"
   ]
  },
  {
   "cell_type": "code",
   "execution_count": 59,
   "id": "0e607ad1-b6ea-44c3-92b5-5d2f7f2cae09",
   "metadata": {},
   "outputs": [
    {
     "data": {
      "text/plain": [
       "array([0.        , 1.09861229, 1.60943791, 1.94591015, 2.19722458,\n",
       "       2.39789527, 2.56494936, 2.7080502 , 2.83321334, 2.94443898])"
      ]
     },
     "execution_count": 59,
     "metadata": {},
     "output_type": "execute_result"
    }
   ],
   "source": [
    "# Logaritmo natural de los elemento del array \n",
    "np.log(array1)"
   ]
  },
  {
   "cell_type": "code",
   "execution_count": null,
   "id": "10165838-5adc-41e9-a5c5-0ba08bf39207",
   "metadata": {},
   "outputs": [],
   "source": []
  }
 ],
 "metadata": {
  "kernelspec": {
   "display_name": "Python 3 (ipykernel)",
   "language": "python",
   "name": "python3"
  },
  "language_info": {
   "codemirror_mode": {
    "name": "ipython",
    "version": 3
   },
   "file_extension": ".py",
   "mimetype": "text/x-python",
   "name": "python",
   "nbconvert_exporter": "python",
   "pygments_lexer": "ipython3",
   "version": "3.9.19"
  }
 },
 "nbformat": 4,
 "nbformat_minor": 5
}
